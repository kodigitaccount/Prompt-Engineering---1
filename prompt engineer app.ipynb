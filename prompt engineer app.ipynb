{
 "cells": [
  {
   "cell_type": "code",
   "execution_count": null,
   "id": "1fa0ade1-5b30-4f87-925d-e1e7bd2a4bb2",
   "metadata": {},
   "outputs": [],
   "source": [
    "import streamlit as st\n",
    "import openai\n",
    "import os\n",
    "\n",
    "# Set your OpenAI API key\n",
    "openai.api_key = \"enter your key\"  # Use environment variable for security\n",
    "\n",
    "def retriever_info(query):\n",
    "    # Dummy implementation for example purposes\n",
    "    return \"about prime minister of india\"\n",
    "\n",
    "def rag_query(query):\n",
    "    retrieved_info = retriever_info(query)\n",
    "    augmented_prompt = f\"User query: {query}. Retrieved information: {retrieved_info}\"\n",
    "    \n",
    "    response = openai.ChatCompletion.create(\n",
    "        model=\"gpt-4o\",\n",
    "        messages=[{\"role\": \"user\", \"content\": augmented_prompt}],\n",
    "        max_tokens=300,\n",
    "        temperature=0.2,\n",
    "    )\n",
    "    \n",
    "    return response.choices[0].message['content'].strip()\n",
    "\n",
    "# Streamlit UI\n",
    "st.title(\"RAG Prompt Query Interface\")\n",
    "user_input = st.text_input(\"Enter your query:\")\n",
    "\n",
    "if st.button(\"Submit\"):\n",
    "    if user_input:\n",
    "        response = rag_query(user_input)\n",
    "        st.write(\"Response:\", response)\n",
    "    else:\n",
    "        st.write(\"Please enter a query.\")\n"
   ]
  }
 ],
 "metadata": {
  "kernelspec": {
   "display_name": "Python 3 (ipykernel)",
   "language": "python",
   "name": "python3"
  },
  "language_info": {
   "codemirror_mode": {
    "name": "ipython",
    "version": 3
   },
   "file_extension": ".py",
   "mimetype": "text/x-python",
   "name": "python",
   "nbconvert_exporter": "python",
   "pygments_lexer": "ipython3",
   "version": "3.11.7"
  }
 },
 "nbformat": 4,
 "nbformat_minor": 5
}
